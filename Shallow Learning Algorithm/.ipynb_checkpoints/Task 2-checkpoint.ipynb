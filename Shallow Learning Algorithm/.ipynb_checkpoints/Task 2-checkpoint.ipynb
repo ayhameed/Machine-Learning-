{
 "cells": [
  {
   "cell_type": "markdown",
   "id": "e5910093",
   "metadata": {},
   "source": [
    "# Task 2"
   ]
  },
  {
   "cell_type": "code",
   "execution_count": 2,
   "id": "f7ec553a",
   "metadata": {},
   "outputs": [
    {
     "name": "stderr",
     "output_type": "stream",
     "text": [
      "/Users/abdulhameed/opt/anaconda3/lib/python3.9/site-packages/sklearn/linear_model/_logistic.py:458: ConvergenceWarning: lbfgs failed to converge (status=1):\n",
      "STOP: TOTAL NO. of ITERATIONS REACHED LIMIT.\n",
      "\n",
      "Increase the number of iterations (max_iter) or scale the data as shown in:\n",
      "    https://scikit-learn.org/stable/modules/preprocessing.html\n",
      "Please also refer to the documentation for alternative solver options:\n",
      "    https://scikit-learn.org/stable/modules/linear_model.html#logistic-regression\n",
      "  n_iter_i = _check_optimize_result(\n"
     ]
    },
    {
     "name": "stdout",
     "output_type": "stream",
     "text": [
      "Accuracy: 0.6634104541559555\n",
      "Precision: 0.5782576001718767\n",
      "FNR: 0.0003714020427112349\n",
      "FPR: 0.624661893396977\n",
      "TNR: 0.3753381066030231\n",
      "TPR: 0.9996285979572888\n"
     ]
    }
   ],
   "source": [
    "# Import necessary libraries\n",
    "import pandas as pd\n",
    "from sklearn.model_selection import train_test_split,cross_val_score\n",
    "from sklearn.linear_model import LogisticRegression\n",
    "from sklearn.naive_bayes import GaussianNB\n",
    "from sklearn.tree import DecisionTreeClassifier\n",
    "from sklearn.ensemble import RandomForestClassifier\n",
    "from sklearn.metrics import confusion_matrix\n",
    "\n",
    "# Read data from Excel file\n",
    "data = pd.read_excel(\"KDD_DDoS.xlsx\")\n",
    "\n",
    "# Split data into training and testing sets\n",
    "X_train, X_test, y_train, y_test = train_test_split(data.drop('xAttack', axis=1), data['xAttack'], test_size=0.4, random_state=42)\n",
    "\n",
    "# Create models\n",
    "lr_model = LogisticRegression(solver='lbfgs', class_weight='balanced', max_iter=10000)\n",
    "nb_model = GaussianNB()\n",
    "dt_model = DecisionTreeClassifier()\n",
    "rf_model = RandomForestClassifier()\n",
    "\n",
    "# Train models\n",
    "lr_model.fit(X_train, y_train)\n",
    "nb_model.fit(X_train, y_train)\n",
    "dt_model.fit(X_train, y_train)\n",
    "rf_model.fit(X_train, y_train)\n",
    "\n",
    "# Make predictions\n",
    "lr_pred = lr_model.predict(X_test)\n",
    "nb_pred = nb_model.predict(X_test)\n",
    "dt_pred = dt_model.predict(X_test)\n",
    "rf_pred = rf_model.predict(X_test)\n",
    "\n",
    "# Combine predictions\n",
    "ensemble_pred = pd.Series([lr_pred[i] or nb_pred[i] or dt_pred[i] or rf_pred[i] for i in range(len(X_test))])\n",
    "\n",
    "# Compute confusion matrix\n",
    "conf_matrix = confusion_matrix(y_test, ensemble_pred)\n",
    "\n",
    "# Compute performance metrics\n",
    "total = sum(sum(conf_matrix))\n",
    "accuracy = (conf_matrix[0,0] + conf_matrix[1,1]) / total\n",
    "precision = conf_matrix[1,1] / (conf_matrix[1,1] + conf_matrix[0,1])\n",
    "fnr = conf_matrix[1,0] / (conf_matrix[1,0] + conf_matrix[1,1])\n",
    "fpr = conf_matrix[0,1] / (conf_matrix[0,1] + conf_matrix[0,0])\n",
    "tnr = conf_matrix[0,0] / (conf_matrix[0,0] + conf_matrix[0,1])\n",
    "tpr = conf_matrix[1,1] / (conf_matrix[1,0] + conf_matrix[1,1])\n",
    "\n",
    "# Display performance metrics\n",
    "print(\"Accuracy:\", accuracy)\n",
    "print(\"Precision:\", precision)\n",
    "print(\"FNR:\", fnr)\n",
    "print(\"FPR:\", fpr)\n",
    "print(\"TNR:\", tnr)\n",
    "print(\"TPR:\", tpr)\n"
   ]
  },
  {
   "cell_type": "code",
   "execution_count": null,
   "id": "bcef640d",
   "metadata": {},
   "outputs": [],
   "source": []
  }
 ],
 "metadata": {
  "kernelspec": {
   "display_name": "Python 3 (ipykernel)",
   "language": "python",
   "name": "python3"
  },
  "language_info": {
   "codemirror_mode": {
    "name": "ipython",
    "version": 3
   },
   "file_extension": ".py",
   "mimetype": "text/x-python",
   "name": "python",
   "nbconvert_exporter": "python",
   "pygments_lexer": "ipython3",
   "version": "3.9.13"
  }
 },
 "nbformat": 4,
 "nbformat_minor": 5
}
