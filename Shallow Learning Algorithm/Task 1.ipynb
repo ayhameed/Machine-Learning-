{
 "cells": [
  {
   "cell_type": "markdown",
   "id": "ed6293fb",
   "metadata": {},
   "source": [
    "# Task1: Python code for SVM, NB, KNN"
   ]
  },
  {
   "cell_type": "markdown",
   "id": "2d0dea2e",
   "metadata": {},
   "source": [
    "# Support Vector Machines"
   ]
  },
  {
   "cell_type": "code",
   "execution_count": 16,
   "id": "04ec9a0b",
   "metadata": {},
   "outputs": [
    {
     "name": "stdout",
     "output_type": "stream",
     "text": [
      "              precision    recall  f1-score   support\n",
      "\n",
      "           0       1.00      0.54      0.70      6285\n",
      "           1       0.65      1.00      0.79      5385\n",
      "\n",
      "    accuracy                           0.75     11670\n",
      "   macro avg       0.82      0.77      0.75     11670\n",
      "weighted avg       0.84      0.75      0.74     11670\n",
      "\n",
      "Accuracy score: 0.7526992287917738\n",
      "Cross-validation score: 0.5822450728363325\n",
      "Confusion Matrix: [[3410 2875]\n",
      " [  11 5374]]\n",
      "Accuracy from Confusion Matrix: 0.7526992287917738\n"
     ]
    }
   ],
   "source": [
    "#Import Pandas to Read excel\n",
    "import pandas as pd\n",
    "data = pd.read_excel (\"KDD_DDoS.xlsx\") \n",
    "\n",
    "# Import necessary libraries (SVM)\n",
    "from sklearn.model_selection import train_test_split,cross_val_score\n",
    "from sklearn.svm import SVC\n",
    "from sklearn import metrics\n",
    "\n",
    "# Read data\n",
    "data = pd.read_excel(\"KDD_DDoS.xlsx\")\n",
    "\n",
    "# Split the data into training and testing sets\n",
    "X = data.drop('xAttack', axis=1)\n",
    "y = data['xAttack']\n",
    "X_train, X_test, y_train, y_test = train_test_split(X, y, test_size=0.4, random_state=42)\n",
    "\n",
    "# Train the SVM model\n",
    "svm_model = SVC()\n",
    "svm_model.fit(X_train, y_train)\n",
    "\n",
    "# Test the model on the testing set\n",
    "y_pred = svm_model.predict(X_test)\n",
    "\n",
    "# Evaluate the performance of the model using various metrics\n",
    "print(metrics.classification_report(y_test, y_pred))\n",
    "print(\"Accuracy score:\", metrics.accuracy_score(y_test, y_pred))\n",
    "print(\"Cross-validation score:\", cross_val_score(svm_model, X, y, cv=5).mean())\n",
    "\n",
    "#Calculate Confusion Matrix\n",
    "from sklearn.metrics import confusion_matrix\n",
    "\n",
    "# Predict the target variable on the test set\n",
    "y_pred = svm_model.predict(X_test)\n",
    "\n",
    "# Calculate the confusion matrix\n",
    "conf_matrix = confusion_matrix(y_test, y_pred)\n",
    "\n",
    "# Print the confusion matrix\n",
    "print(f\"Confusion Matrix: {conf_matrix}\")\n",
    "\n",
    "#Calculating Accuracy from confusion matrix \n",
    "#define a function to unpack conf_matrix and map values to tp, fp, tn, and fn respectively \n",
    "def calculate_metrics(conf_matrix):\n",
    "    tp = conf_matrix[1, 1]\n",
    "    fp = conf_matrix[0, 1]\n",
    "    tn = conf_matrix[0, 0]\n",
    "    fn = conf_matrix[1, 0]\n",
    "    return tp, fp, tn, fn\n",
    "#Call the calculate_metrics and store return value\n",
    "tp, fp, tn, fn = calculate_metrics(conf_matrix)\n",
    "#Accuracy from confusion matrix\n",
    "accuracy = (tp+tn)/(tp+tn+fp+fn)\n",
    "print(f\"Accuracy from Confusion Matrix: {accuracy}\")"
   ]
  },
  {
   "cell_type": "markdown",
   "id": "3fea2ff1",
   "metadata": {},
   "source": [
    "# K-Nearest Neighbors"
   ]
  },
  {
   "cell_type": "code",
   "execution_count": 17,
   "id": "327c3f37",
   "metadata": {},
   "outputs": [
    {
     "name": "stdout",
     "output_type": "stream",
     "text": [
      "              precision    recall  f1-score   support\n",
      "\n",
      "           0       0.99      0.98      0.99      6285\n",
      "           1       0.98      0.99      0.99      5385\n",
      "\n",
      "    accuracy                           0.99     11670\n",
      "   macro avg       0.99      0.99      0.99     11670\n",
      "weighted avg       0.99      0.99      0.99     11670\n",
      "\n",
      "Accuracy Score: 0.9877463581833762\n",
      "Cross-validation score: 0.9840959725792631\n",
      "Confusion Matrix:  [[6181  104]\n",
      " [  39 5346]]\n",
      "Accuracy Confusion Matrix: 0.9877463581833762\n"
     ]
    }
   ],
   "source": [
    "#I already loaded the data in the earlier cells\n",
    "#I would import the model from sklearn, split and train, then calculate the confusion metrix\n",
    "from sklearn.neighbors import KNeighborsClassifier\n",
    "\n",
    "#Split the dataset into training and testing sets\n",
    "#This has been done earlier \n",
    "\n",
    "#Create a KNN model object \n",
    "knn_model = KNeighborsClassifier(n_neighbors=5)\n",
    "\n",
    "#Train the knn model \n",
    "knn_model.fit(X_train, y_train)\n",
    "\n",
    "#Make Predictions\n",
    "y_pred = knn_model.predict(X_test)\n",
    "\n",
    "#calculatin metrixs\n",
    "print(metrics.classification_report(y_test, y_pred))\n",
    "print(\"Accuracy Score:\", metrics.accuracy_score(y_test, y_pred))\n",
    "print(\"Cross-validation score:\", cross_val_score(knn_model, X, y, cv=5).mean())\n",
    "conf_matrix = confusion_matrix(y_test, y_pred)\n",
    "print(\"Confusion Matrix: \", conf_matrix)\n",
    "\n",
    "#Calculating Accuracy from confusion matrix \n",
    "'''\n",
    "Use the calculate_metrics() defined earlier define a function to unpack conf_matrix \n",
    "and map values to tp, fp, tn, and fn respectively \n",
    "'''\n",
    "\n",
    "#Call the calculate_metrics and store return value\n",
    "tp, fp, tn, fn = calculate_metrics(conf_matrix)\n",
    "#Accuracy from confusion matrix\n",
    "accuracy = (tp+tn)/(tp+tn+fp+fn)\n",
    "print(f\"Accuracy Confusion Matrix: {accuracy}\")"
   ]
  },
  {
   "cell_type": "markdown",
   "id": "7de2e6ba",
   "metadata": {},
   "source": [
    "# Naive Bayes"
   ]
  },
  {
   "cell_type": "code",
   "execution_count": 19,
   "id": "8ac156fb",
   "metadata": {},
   "outputs": [
    {
     "name": "stdout",
     "output_type": "stream",
     "text": [
      "              precision    recall  f1-score   support\n",
      "\n",
      "           0       0.88      0.40      0.55      6285\n",
      "           1       0.57      0.93      0.71      5385\n",
      "\n",
      "    accuracy                           0.64     11670\n",
      "   macro avg       0.72      0.67      0.63     11670\n",
      "weighted avg       0.74      0.64      0.62     11670\n",
      "\n",
      "Accuracy Score: 0.6449014567266496\n",
      "Cross-validation score: 0.6230334190231364\n",
      "Confusion Matrix:  [[2492 3793]\n",
      " [ 351 5034]]\n",
      "Accuracy Confusion Matrix: 0.6449014567266496\n"
     ]
    }
   ],
   "source": [
    "#Import the model \n",
    "from sklearn.naive_bayes import GaussianNB\n",
    "\n",
    "#Split the dataset into training and testing sets\n",
    "#This has been done earlier \n",
    "\n",
    "# Train a Gaussian Naive Bayes classifier\n",
    "nb_model = GaussianNB()\n",
    "nb_model.fit(X_train, y_train)\n",
    "\n",
    "# Make predictions on the testing set\n",
    "y_pred = nb_model.predict(X_test)\n",
    "\n",
    "#calculatin metrixs\n",
    "print(metrics.classification_report(y_test, y_pred))\n",
    "print(\"Accuracy Score:\", metrics.accuracy_score(y_test, y_pred))\n",
    "print(\"Cross-validation score:\", cross_val_score(nb_model, X, y, cv=5).mean())\n",
    "conf_matrix = confusion_matrix(y_test, y_pred)\n",
    "print(\"Confusion Matrix: \", conf_matrix)\n",
    "\n",
    "#Calculating Accuracy from confusion matrix \n",
    "'''\n",
    "Use the calculate_metrics() defined earlier define a function to unpack conf_matrix \n",
    "and map values to tp, fp, tn, and fn respectively \n",
    "'''\n",
    "\n",
    "#Call the calculate_metrics and store return value\n",
    "tp, fp, tn, fn = calculate_metrics(conf_matrix)\n",
    "#Accuracy from confusion matrix\n",
    "accuracy = (tp+tn)/(tp+tn+fp+fn)\n",
    "print(f\"Accuracy Confusion Matrix: {accuracy}\")"
   ]
  },
  {
   "cell_type": "code",
   "execution_count": null,
   "id": "749e52b1",
   "metadata": {},
   "outputs": [],
   "source": []
  }
 ],
 "metadata": {
  "kernelspec": {
   "display_name": "Python 3 (ipykernel)",
   "language": "python",
   "name": "python3"
  },
  "language_info": {
   "codemirror_mode": {
    "name": "ipython",
    "version": 3
   },
   "file_extension": ".py",
   "mimetype": "text/x-python",
   "name": "python",
   "nbconvert_exporter": "python",
   "pygments_lexer": "ipython3",
   "version": "3.9.13"
  }
 },
 "nbformat": 4,
 "nbformat_minor": 5
}
